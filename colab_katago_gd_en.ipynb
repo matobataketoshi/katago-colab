{
  "nbformat": 4,
  "nbformat_minor": 0,
  "metadata": {
    "colab": {
      "name": "colab-katago-gd-en.ipynb",
      "provenance": [],
      "collapsed_sections": [],
      "toc_visible": true,
      "include_colab_link": true
    },
    "kernelspec": {
      "name": "python3",
      "display_name": "Python 3"
    },
    "accelerator": "GPU"
  },
  "cells": [
    {
      "cell_type": "code",
      "metadata": {
        "id": "d2vjlytJVcsX",
        "colab": {
          "base_uri": "https://localhost:8080/"
        },
        "outputId": "3715836b-ca94-4dad-c176-c48cfe065e36"
      },
      "source": [
        "import subprocess\n",
        "smi=subprocess.run([\"nvidia-smi\", \"-L\"], stdout=subprocess.PIPE)\n",
        "if smi.returncode != 0:\n",
        "  assert False, \"No GPU available!\"\n",
        "print(smi.stdout.decode())"
      ],
      "execution_count": null,
      "outputs": [
        {
          "output_type": "stream",
          "name": "stdout",
          "text": [
            "GPU 0: Tesla T4 (UUID: GPU-41ed80c3-5105-8f43-1108-9ed46036dd2c)\n",
            "\n"
          ]
        }
      ]
    },
    {
      "cell_type": "markdown",
      "metadata": {
        "id": "view-in-github",
        "colab_type": "text"
      },
      "source": [
        "<a href=\"https://colab.research.google.com/github/mildinvestor/katago-colab/blob/master/colab_katago_gd_en.ipynb\" target=\"_parent\"><img src=\"https://colab.research.google.com/assets/colab-badge.svg\" alt=\"Open In Colab\"/></a>"
      ]
    },
    {
      "cell_type": "markdown",
      "metadata": {
        "id": "fc701xWwO1DC"
      },
      "source": [
        "This document shows how to run KataGo on Colab, and how to connect it using `Sabaki`, `Lizzie` (or other GTP engine supported apps) in your local machine."
      ]
    },
    {
      "cell_type": "markdown",
      "metadata": {
        "id": "rDYNTCaU8KCr"
      },
      "source": [
        "# Step 1: Run KataGo and SSH server on Colab Server\n",
        "\n",
        "Before running, you should prepare these 2 values: `NGROK_TOKEN` and `USER_PASSWORD`. \n",
        "\n",
        "* NGROK_TOKEN - You can register or login in `ngrok` website here: [https://dashboard.ngrok.com/auth/your-authtoken](https://dashboard.ngrok.com/auth/your-authtoken). Then you can find your own ngrok token.\n",
        "* USER_PASSWORD - You can use any password as you wish. (should only contains letters or digits)\n",
        "\n",
        "`USER_PASSWORD` will be used in `Sabaki` or `Lizzie` as engine options. (More details will be elaborated in Step 2 below).\n",
        "\n",
        "Change these 2 values of your own in the parameter from the right parameter entry field(`Config for SSH`). \n",
        "\n",
        "In addition, change the `Config for KataGo` as needed.\n",
        "\n",
        "* WEIGHT_FILE - You can choose the number of blocks in your deep learning network file. If you set it to \"AUTO\", it will be automatically set according to the performance of the GPU assigned to Google Colab.\n",
        "* rules - You can choose the rules of Go.\n",
        "* maxVisits - You can enter the maximum number of visits to the node. The larger this number, the more time KataGo will take to search the game tree during a game(in genmove mode).\n",
        "\n",
        "Then click the `Run` button. \n",
        "\n",
        "After run, do the following:\n",
        "* Authenticate your Google Drive. Please access the authentication URL displayed, log in to Google, and then allow authentication. Enter the verification code displayed in the `Enter verification code:` field.\n",
        "* Copy the value of `SSH_INFO_GOOGLE_DRIVE_FILE_ID` displayed in the output cell. This will be used as engine options. This value will be the same after the next execution.\n",
        "\n",
        "It may take about 2~3 minutes to complete running the code. "
      ]
    },
    {
      "cell_type": "code",
      "metadata": {
        "id": "nPaa2KJt8Kyn"
      },
      "source": [
        "# SSH configuration\n",
        "NGROK_TOKEN = 'your_ngrok_token'\n",
        "USER_PASSWORD = 'your_password'\n",
        "\n",
        "# KataGo configuration\n",
        "KATAGO_BACKEND = 'AUTO'\n",
        "T4_WEIGHT = '40b'\n",
        "ELSE_WEIGHT = '20b'\n",
        "\n",
        "# Constant\n",
        "KATAGO_COLAB_REPOSITORY_URL = 'https://github.com/matobataketoshi/katago-colab.git'\n",
        "KATAGO_CONFIG_FILE = '/content/katago-colab/config/gtp_colab.cfg'\n",
        "KATAGO_TUNING_DIR = '/content/katago-colab/opencltuning'\n",
        "KATAGO_RESOURCE_FILE = '/content/katago-colab/colab-resource/external-resource.json'\n",
        "SSH_INFO_FILE_NAME = 'colab-katago-ssh.json'\n",
        "SSH_INFO_DIR = '/content/drive/MyDrive'\n",
        "\n",
        "# Install useful stuff\n",
        "!echo \"Install libraries\"\n",
        "!apt-get update 1>/dev/null\n",
        "!apt-get install --yes ssh screen nano htop ranger git libzip4 1>/dev/null\n",
        "!wget -q https://github.com/wonsiks/katago-colab/releases/download/v1.9.1/libzip.so.5.0 -O /usr/lib/x86_64-linux-gnu/libzip.so.5\n",
        "!pip install -U -q PyDrive 1>/dev/null\n",
        "\n",
        "import subprocess\n",
        "from pydrive.auth import GoogleAuth\n",
        "from pydrive.drive import GoogleDrive\n",
        "from google.colab import auth\n",
        "from oauth2client.client import GoogleCredentials\n",
        "import requests\n",
        "import json\n",
        "import os\n",
        "from re import sub\n",
        "\n",
        "def get_katago_resource(katago_resource_file):\n",
        "    with open(katago_resource_file, 'r') as f:\n",
        "        resource = json.load(f)\n",
        "    return resource\n",
        "\n",
        "def save_ssh_info(dir, file_name):\n",
        "    file_path = dir + '/' + file_name\n",
        "    ssh_option = create_ssh_option()\n",
        "    file_id = get_file_id_in_drive(file_path)\n",
        "    if file_id is None:\n",
        "        file_id = upload_ssh_option_with_pydrive(file_name, ssh_option)\n",
        "    else:\n",
        "        ssh_option['fileId'] = file_id\n",
        "        write_ssh_option(file_path, ssh_option)\n",
        "    print('================================================================')\n",
        "    print('SSH_INFO_GOOGLE_DRIVE_FILE_ID: {}'.format(file_id))\n",
        "    print('================================================================')\n",
        "    return file_id\n",
        "\n",
        "def create_ssh_option():\n",
        "    ssh_option = None\n",
        "    try:\n",
        "        r = requests.get('http://localhost:4040/api/tunnels')\n",
        "        raw_ssh = r.json()['tunnels'][0]['public_url']\n",
        "        ssh_args = (sub(\"tcp://\", \"\", raw_ssh)).split(':')\n",
        "        ssh_option = {\n",
        "            'host': ssh_args[0],\n",
        "            'port': int(ssh_args[1]),\n",
        "            'user': 'root'\n",
        "        }\n",
        "    except Exception as e:\n",
        "        print('Failed to create SSH options. Make sure that the ngrok token is set correctly.')\n",
        "        raise e\n",
        "    return ssh_option\n",
        "\n",
        "def get_file_id_in_drive(file_path):\n",
        "    file_id = None\n",
        "    if (os.path.exists(file_path)):\n",
        "        try:\n",
        "            with open(file_path, 'r') as f:\n",
        "                ssh_option = json.load(f)\n",
        "                file_id = ssh_option.get('fileId')\n",
        "        except Exception as e:\n",
        "            file_id = None\n",
        "    return file_id\n",
        "\n",
        "def write_ssh_option(file_path, ssh_option):\n",
        "    print('Write SSH option: {}'.format(file_path))\n",
        "    with open(file_path, 'w') as f:\n",
        "        f.write(json.dumps(ssh_option))\n",
        " \n",
        "def upload_ssh_option_with_pydrive(file_name, ssh_option):\n",
        "    print('Authenticate to Google Drive')\n",
        "    drive = auth_google_drive()\n",
        "    file_metadata = {\n",
        "        'title': file_name,\n",
        "        'mimeType': 'application/json'\n",
        "    }\n",
        "    file_list = drive.ListFile({'q': 'title=\"' + file_name + '\" and trashed=False'}).GetList()\n",
        "    if (len(file_list) > 0):\n",
        "        file_metadata['id'] = file_list[0]['id']\n",
        "    ssh_option_file = drive.CreateFile(file_metadata)\n",
        "    ssh_option_file.Upload()\n",
        "    file_id = ssh_option_file.get('id')\n",
        "    ssh_option['fileId'] = file_id\n",
        "    ssh_option_file.SetContentString(json.dumps(ssh_option))\n",
        "    ssh_option_file.Upload()\n",
        "    ssh_option_file.InsertPermission({'type': 'anyone', 'value': 'anyone', 'role': 'reader'})\n",
        "    return file_id\n",
        "\n",
        "def auth_google_drive():\n",
        "    auth.authenticate_user()\n",
        "    gauth = GoogleAuth()\n",
        "    gauth.credentials = GoogleCredentials.get_application_default()\n",
        "    drive = GoogleDrive(gauth)\n",
        "    return drive\n",
        "\n",
        "# Get GPU name\n",
        "gpu_name = str(subprocess.check_output(\"nvidia-smi -q | grep \\\"Product Name\\\" | cut -d\\\":\\\" -f2 | tr -cd '[:alnum:]._-'\", shell=True), encoding='utf-8')\n",
        "print('GPU: {}'.format(gpu_name))\n",
        "\n",
        "# Select backend type\n",
        "if KATAGO_BACKEND == \"AUTO\":\n",
        "  if gpu_name == \"TeslaT4\":\n",
        "    KATAGO_BACKEND = \"TensorRT\"\n",
        "  else:\n",
        "    KATAGO_BACKEND = \"OPENCL\"    \n",
        "print('Using KataGo Binery: {}'.format(KATAGO_BACKEND))\n",
        "\n",
        "# Select weight file\n",
        "if gpu_name == \"TeslaT4\":\n",
        "  WEIGHT_FILE = T4_WEIGHT\n",
        "else:\n",
        "  WEIGHT_FILE = ELSE_WEIGHT\n",
        "print('Using KataGo Weight: {}'.format(WEIGHT_FILE))\n",
        "\n",
        "%cd /content\n",
        "# Clone katago-colab\n",
        "!echo \"Git clone katago-colab\"\n",
        "!rm -rf katago-colab\n",
        "!git clone $KATAGO_COLAB_REPOSITORY_URL 1>/dev/null\n",
        "\n",
        "# Get URLs of external resources\n",
        "katago_resource = get_katago_resource(KATAGO_RESOURCE_FILE)\n",
        "ngrok_url = katago_resource['ngrok']\n",
        "katago_url = katago_resource[KATAGO_BACKEND]\n",
        "weight_url = katago_resource[WEIGHT_FILE]\n",
        "\n",
        "if KATAGO_BACKEND == \"TensorRT\":\n",
        "  !echo \"Install the files needed to drive TensorRT.\"\n",
        "\n",
        "  %cd /content\n",
        "  !wget https://developer.download.nvidia.com/compute/cuda/repos/ubuntu1804/x86_64/libcudnn8_8.2.1.32-1+cuda11.3_amd64.deb\n",
        "  !dpkg -i libcudnn8_8.2.1.32-1+cuda11.3_amd64.deb\n",
        "\n",
        "  !wget https://developer.download.nvidia.com/compute/cuda/repos/ubuntu1804/x86_64/libnvinfer8_8.2.2-1+cuda11.4_amd64.deb\n",
        "  !dpkg -i libnvinfer8_8.2.2-1+cuda11.4_amd64.deb\n",
        "  !wget https://developer.download.nvidia.com/compute/cuda/repos/ubuntu1804/x86_64/libnvonnxparsers8_8.2.2-1+cuda11.4_amd64.deb\n",
        "  !dpkg -i libnvonnxparsers8_8.2.2-1+cuda11.4_amd64.deb\n",
        "  !wget https://developer.download.nvidia.com/compute/cuda/repos/ubuntu1804/x86_64/libnvparsers8_8.2.2-1+cuda11.4_amd64.deb\n",
        "  !dpkg -i libnvparsers8_8.2.2-1+cuda11.4_amd64.deb\n",
        "\n",
        "# Download ngrok\n",
        "!wget -q $ngrok_url -O ngrok\n",
        "!chmod +x /content/ngrok\n",
        " \n",
        "# SSH setting\n",
        "!echo \"root:$USER_PASSWORD\" | chpasswd\n",
        "!echo \"PasswordAuthentication yes\" > /etc/ssh/sshd_config\n",
        "!echo \"PermitUserEnvironment yes\" >> /etc/ssh/sshd_config\n",
        "!echo \"PermitRootLogin yes\" >> /etc/ssh/sshd_config\n",
        "\n",
        "!mkdir -p /root/.ssh\n",
        "!service ssh restart > /dev/null\n",
        " \n",
        "# Run ngrok\n",
        "!echo \"Run ngrok.\"\n",
        "get_ipython().system_raw('./ngrok authtoken $NGROK_TOKEN && ./ngrok tcp 22 &')\n",
        "!sleep 5\n",
        "\n",
        "# Save SSH info to Google Drive\n",
        "!echo \"Save SSH connection information in Google Drive.\"\n",
        "SSH_INFO_GOOGLE_DRIVE_FILE_ID = save_ssh_info(SSH_INFO_DIR, SSH_INFO_FILE_NAME)\n",
        "\n",
        "# Download KataGo binary\n",
        "!echo \"Receive the Katago executable file.\"\n",
        "!wget -q \"$katago_url\" -O katago\n",
        "!chmod +x /content/katago\n",
        "!/content/katago version\n",
        "\n",
        "# Put KataGo tuning files\n",
        "!mkdir -p /root/.katago/\n",
        "if KATAGO_BACKEND == \"OPENCL\":\n",
        "  !cp -r $KATAGO_TUNING_DIR /root/.katago/\n",
        "\n",
        "# Download a network file of KataGo\n",
        "!echo \"Download a network file of KataGo\"\n",
        "!rm -rf weight.bin.gz\n",
        "!wget -q \"$weight_url\" -O \"weight.bin.gz\"\n",
        "\n",
        "# Copy enviroment variable for SSH\n",
        "with open('/root/.ssh/environment','w') as f:\n",
        "    for key, value in os.environ.items():\n",
        "        print('{}={}'.format(key, value), file=f)\n",
        "\n",
        "!echo -e \"\\n[KataGo Config]\" \n",
        "!cat $KATAGO_CONFIG_FILE\n",
        "!echo -e \"\\n\"\n",
        "\n",
        "!echo \"Ready to connect! You can connect lizzie ...\"\n",
        "!echo \"lizzie engine drive command : ./colab-katago-gd.exe $SSH_INFO_GOOGLE_DRIVE_FILE_ID $USER_PASSWORD\""
      ],
      "execution_count": null,
      "outputs": []
    },
    {
      "cell_type": "markdown",
      "metadata": {
        "id": "movIaTQSRL96"
      },
      "source": [
        "#Step 2: Connect Colab KataGo via Sabaki or Lizzie\n",
        "\n",
        "## 1) first, download a colab-katago client app\n",
        "Here are the download Links:  \n",
        "\n",
        "**For Windows Users (64bit windows)**  \n",
        "https://github.com/wonsiks/katago-colab/releases/download/v1.9.1/colab-katago-gd.windows.zip\n",
        "\n",
        "https://github.com/wonsiks/katago-colab/releases/download/v1.9.1/colab-katago-gd.exe\n",
        "\n",
        "**For Linux Users**  \n",
        "https://github.com/wonsiks/katago-colab/releases/download/v1.9.1/colab-katago-gd.linux.zip\n",
        "\n",
        "**For Mac OSX Users**  \n",
        "https://github.com/wonsiks/katago-colab/releases/download/v1.9.1/colab-katago-gd.mac.zip\n",
        "\n",
        "**after download completed, unzip it, you can get a binary program naming  colab-katago-gd or colab-katago-gd.exe**\n",
        "\n",
        "## 2) then, add engine in Sabaki or Lizzie\n",
        "\n",
        "To configure the engine in `Sabaki` or `Lizzie`, you just need to fill the absolute path of your `colab-katago` program (which you've downloaded just now), and the file ID, password(i.e, `SSH_INFO_GOOGLE_DRIVE_FILE_ID` displayed in the output cell, `USER_PASSWORD` you configured in Step 1).\n",
        "\n",
        "```\n",
        "<Absolute path of colab-katago-gd> <SSH_INFO_GOOGLE_DRIVE_FILE_ID> <USER_PASSWORD>\n",
        "```\n",
        "\n",
        "**Sabaki Example**:  \n",
        "\n",
        "![Sabaki Example Image](\n",
        "https://mildinvestor.com/wp-content/uploads/2021/08/colab-katago-sabaki-example.jpg\n",
        ")  \n",
        "\n",
        "**Lizzie Example**:  \n",
        "\n",
        "![Lizzie Example Image](https://mildinvestor.com/wp-content/uploads/2021/08/colab-katago-lizzie-example.jpg\n",
        ")\n",
        "\n",
        "## More Config Options (Optional)\n",
        "You can use the following engine options to limits the KataGo Search `visits` or `time` (in seconds) in genmove mode. For example: \n",
        "\n",
        "```\n",
        "<AbsolutePathOfColabKataGoProglem> <SSH_INFO_GOOGLE_DRIVE_FILE_ID> <USER_PASSWORD> 30s\n",
        "```\n",
        "The above options `30s` limits the search time for each move to 30 seconds.\n",
        "```\n",
        "<AbsolutePathOfColabKataGoProglem> <SSH_INFO_GOOGLE_DRIVE_FILE_ID> <USER_PASSWORD> 1600v\n",
        "```\n",
        "The above options `1600v` limits the search visits for each move to 1600 visits.\n",
        "\n",
        "You can change the numbers 30 or 1600 in the above to any number as you want."
      ]
    },
    {
      "cell_type": "markdown",
      "metadata": {
        "id": "X1Wx4EZbOkS7"
      },
      "source": [
        "#The following sections are for debugging only, you can ignore."
      ]
    },
    {
      "cell_type": "markdown",
      "metadata": {
        "id": "YUrfBH3MPBz4"
      },
      "source": [
        "**Shows the Colab GPU Info**"
      ]
    },
    {
      "cell_type": "code",
      "metadata": {
        "id": "LMabHvkwOsTl"
      },
      "source": [
        "!nvidia-smi"
      ],
      "execution_count": null,
      "outputs": []
    },
    {
      "cell_type": "markdown",
      "metadata": {
        "id": "Gnh18L-MPE-n"
      },
      "source": [
        "Get your ssh login info\n",
        "*ssh login account is root, the login password is the `USER_PASSWORD` you configured in the previous steps*"
      ]
    },
    {
      "cell_type": "code",
      "metadata": {
        "id": "ogpJ83VzPHn8"
      },
      "source": [
        "import requests\n",
        "from re import sub\n",
        "r = requests.get('http://localhost:4040/api/tunnels')\n",
        "str_ssh = r.json()['tunnels'][0]['public_url']\n",
        "str_ssh = sub(\"tcp://\", \"\", str_ssh)\n",
        "str_ssh = sub(\":\", \" -p \", str_ssh)\n",
        "str_ssh = \"ssh root@\" + str_ssh \n",
        "print(str_ssh)"
      ],
      "execution_count": null,
      "outputs": []
    },
    {
      "cell_type": "markdown",
      "metadata": {
        "id": "9fl2FHsY0R0a"
      },
      "source": [
        "**Restart SSH**\n"
      ]
    },
    {
      "cell_type": "code",
      "metadata": {
        "id": "FuOGdpxm0StG"
      },
      "source": [
        "!service ssh restart"
      ],
      "execution_count": null,
      "outputs": []
    }
  ]
}
